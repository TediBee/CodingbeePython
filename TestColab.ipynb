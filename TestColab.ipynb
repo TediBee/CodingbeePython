{
  "nbformat": 4,
  "nbformat_minor": 0,
  "metadata": {
    "colab": {
      "provenance": [],
      "toc_visible": true,
      "include_colab_link": true
    },
    "kernelspec": {
      "name": "python3",
      "display_name": "Python 3"
    },
    "language_info": {
      "name": "python"
    }
  },
  "cells": [
    {
      "cell_type": "markdown",
      "metadata": {
        "id": "view-in-github",
        "colab_type": "text"
      },
      "source": [
        "<a href=\"https://colab.research.google.com/github/TediBee/CodingbeePython/blob/main/TestColab.ipynb\" target=\"_parent\"><img src=\"https://colab.research.google.com/assets/colab-badge.svg\" alt=\"Open In Colab\"/></a>"
      ]
    },
    {
      "cell_type": "markdown",
      "source": [
        "---\n",
        "# Tes Colab\n",
        "---"
      ],
      "metadata": {
        "id": "CUyfC58mIpE4"
      }
    },
    {
      "cell_type": "code",
      "execution_count": null,
      "metadata": {
        "colab": {
          "base_uri": "https://localhost:8080/"
        },
        "id": "c6Is3Uc0H_YX",
        "outputId": "794ebef7-b3d8-43f0-95a4-b34f62c55bcd"
      },
      "outputs": [
        {
          "output_type": "stream",
          "name": "stdout",
          "text": [
            "Hello\n",
            ".........\n",
            "how are you Tedi\n"
          ]
        }
      ],
      "source": [
        "import time\n",
        "from google.colab import output\n",
        "\n",
        "name=\"Tedi\"\n",
        "print(\"HEllo\")\n",
        "for i in range(10):\n",
        "  output.clear() #menggantikan os.system('cls')\n",
        "  print(\"Hello\")\n",
        "  print(\".\"*i)\n",
        "  time.sleep(0.5)\n",
        "print('how are you',name)\n",
        "\n",
        "def tulis(depan, belakang):\n",
        "  print(belakang, depan)"
      ]
    },
    {
      "cell_type": "markdown",
      "source": [
        "# Tes HTML"
      ],
      "metadata": {
        "id": "tOCQgu2cIrlI"
      }
    },
    {
      "cell_type": "code",
      "source": [
        "%%html\n",
        "<marquee style='width: 30%; color: blue;'><b>Whee!</b></marquee>"
      ],
      "metadata": {
        "id": "LQPQYRFlKctB",
        "colab": {
          "base_uri": "https://localhost:8080/",
          "height": 39
        },
        "outputId": "86872d57-ea13-496e-b247-53dac6ebb29d"
      },
      "execution_count": null,
      "outputs": [
        {
          "output_type": "display_data",
          "data": {
            "text/plain": [
              "<IPython.core.display.HTML object>"
            ],
            "text/html": [
              "<marquee style='width: 30%; color: blue;'><b>Whee!</b></marquee>\n"
            ]
          },
          "metadata": {}
        }
      ]
    },
    {
      "cell_type": "markdown",
      "source": [
        "# Tes Function"
      ],
      "metadata": {
        "id": "3deU1sRWqBZq"
      }
    },
    {
      "cell_type": "markdown",
      "source": [
        "disini kita akan mengetes Function apakah antar cell di dalam section saling berhubungan"
      ],
      "metadata": {
        "id": "KVU91r8SqPJ9"
      }
    },
    {
      "cell_type": "code",
      "source": [
        "print(nama)\n",
        "testing=145\n",
        "print(i)\n",
        "tulis(\"Tedi\",\"Gunawan\")"
      ],
      "metadata": {
        "colab": {
          "base_uri": "https://localhost:8080/"
        },
        "id": "RtMts1_Rqkx3",
        "outputId": "7bf90e0d-b97c-401d-f4d0-50499920443a"
      },
      "execution_count": null,
      "outputs": [
        {
          "output_type": "stream",
          "name": "stdout",
          "text": [
            "Tedi\n",
            "4\n",
            "Gunawan Tedi\n"
          ]
        }
      ]
    },
    {
      "cell_type": "code",
      "source": [
        "nama = \"Tedi\"\n",
        "usia = 15.5\n",
        "print(testing)"
      ],
      "metadata": {
        "id": "Y1pA7e5sqMNZ",
        "colab": {
          "base_uri": "https://localhost:8080/"
        },
        "outputId": "ae9e856b-5e7d-4615-a4bc-0415db8e0788"
      },
      "execution_count": null,
      "outputs": [
        {
          "output_type": "stream",
          "name": "stdout",
          "text": [
            "145\n"
          ]
        }
      ]
    },
    {
      "cell_type": "markdown",
      "source": [
        "Kesimpulan:\n",
        "1.   file memiliki variable yang saling berhubungan walaupun beda section\n",
        "2.   file juga memiliki function (def) yang berhubungan antar section namun untuk variable dan function harus di jalankan terlebih dahulu cell tempat variable dan def berada pertama jika tidak maka tidak akan terbaca\n",
        "3.   Hanya dapat di pakai 1 file 1 orang kecuali untuk colaborasi 1 buah Project\n",
        "\n"
      ],
      "metadata": {
        "id": "ODo-Ir9YrZjH"
      }
    },
    {
      "cell_type": "code",
      "source": [
        "%%javascript\n",
        "class Main {\n",
        "    public void main(String[] args){\n",
        "        System.out.println(\"Hallo\")\n",
        "    }\n",
        "}"
      ],
      "metadata": {
        "colab": {
          "base_uri": "https://localhost:8080/",
          "height": 17
        },
        "id": "S5TM0wB3YQo-",
        "outputId": "59e2ee68-8229-404b-a254-f341ac314e49"
      },
      "execution_count": null,
      "outputs": [
        {
          "output_type": "display_data",
          "data": {
            "text/plain": [
              "<IPython.core.display.Javascript object>"
            ],
            "application/javascript": [
              "class Main {\n",
              "    public void main(String[] args){\n",
              "        System.out.println(\"Hallo\")\n",
              "    }\n",
              "}\n"
            ]
          },
          "metadata": {}
        }
      ]
    },
    {
      "cell_type": "code",
      "source": [
        "# prompt: create windows based output with tkinter where the output have at least two tab\n",
        "\n",
        "import tkinter as tk\n",
        "from tkinter import ttk\n",
        "\n",
        "def create_tabs():\n",
        "  root = tk.Tk()\n",
        "  root.title(\"Colab Output\")\n",
        "\n",
        "  notebook = ttk.Notebook(root)\n",
        "  notebook.pack(fill=tk.BOTH, expand=True)\n",
        "\n",
        "  # Tab 1\n",
        "  tab1 = ttk.Frame(notebook)\n",
        "  notebook.add(tab1, text=\"Tab 1\")\n",
        "\n",
        "  # Example widgets for Tab 1\n",
        "  label1 = tk.Label(tab1, text=\"This is Tab 1\")\n",
        "  label1.pack(padx=10, pady=10)\n",
        "\n",
        "\n",
        "  # Tab 2\n",
        "  tab2 = ttk.Frame(notebook)\n",
        "  notebook.add(tab2, text=\"Tab 2\")\n",
        "\n",
        "  # Example widgets for Tab 2\n",
        "  label2 = tk.Label(tab2, text=\"This is Tab 2\")\n",
        "  label2.pack(padx=10, pady=10)\n",
        "\n",
        "\n",
        "  root.mainloop()\n",
        "\n",
        "create_tabs()"
      ],
      "metadata": {
        "id": "GzjSFXwh3Mjx",
        "colab": {
          "base_uri": "https://localhost:8080/",
          "height": 356
        },
        "outputId": "e273739d-ed45-46da-94e4-06be40669a51"
      },
      "execution_count": 2,
      "outputs": [
        {
          "output_type": "error",
          "ename": "TclError",
          "evalue": "no display name and no $DISPLAY environment variable",
          "traceback": [
            "\u001b[0;31m---------------------------------------------------------------------------\u001b[0m",
            "\u001b[0;31mTclError\u001b[0m                                  Traceback (most recent call last)",
            "\u001b[0;32m<ipython-input-2-43757bbaf8a2>\u001b[0m in \u001b[0;36m<cell line: 33>\u001b[0;34m()\u001b[0m\n\u001b[1;32m     31\u001b[0m   \u001b[0mroot\u001b[0m\u001b[0;34m.\u001b[0m\u001b[0mmainloop\u001b[0m\u001b[0;34m(\u001b[0m\u001b[0;34m)\u001b[0m\u001b[0;34m\u001b[0m\u001b[0;34m\u001b[0m\u001b[0m\n\u001b[1;32m     32\u001b[0m \u001b[0;34m\u001b[0m\u001b[0m\n\u001b[0;32m---> 33\u001b[0;31m \u001b[0mcreate_tabs\u001b[0m\u001b[0;34m(\u001b[0m\u001b[0;34m)\u001b[0m\u001b[0;34m\u001b[0m\u001b[0;34m\u001b[0m\u001b[0m\n\u001b[0m",
            "\u001b[0;32m<ipython-input-2-43757bbaf8a2>\u001b[0m in \u001b[0;36mcreate_tabs\u001b[0;34m()\u001b[0m\n\u001b[1;32m      5\u001b[0m \u001b[0;34m\u001b[0m\u001b[0m\n\u001b[1;32m      6\u001b[0m \u001b[0;32mdef\u001b[0m \u001b[0mcreate_tabs\u001b[0m\u001b[0;34m(\u001b[0m\u001b[0;34m)\u001b[0m\u001b[0;34m:\u001b[0m\u001b[0;34m\u001b[0m\u001b[0;34m\u001b[0m\u001b[0m\n\u001b[0;32m----> 7\u001b[0;31m   \u001b[0mroot\u001b[0m \u001b[0;34m=\u001b[0m \u001b[0mtk\u001b[0m\u001b[0;34m.\u001b[0m\u001b[0mTk\u001b[0m\u001b[0;34m(\u001b[0m\u001b[0;34m)\u001b[0m\u001b[0;34m\u001b[0m\u001b[0;34m\u001b[0m\u001b[0m\n\u001b[0m\u001b[1;32m      8\u001b[0m   \u001b[0mroot\u001b[0m\u001b[0;34m.\u001b[0m\u001b[0mtitle\u001b[0m\u001b[0;34m(\u001b[0m\u001b[0;34m\"Colab Output\"\u001b[0m\u001b[0;34m)\u001b[0m\u001b[0;34m\u001b[0m\u001b[0;34m\u001b[0m\u001b[0m\n\u001b[1;32m      9\u001b[0m \u001b[0;34m\u001b[0m\u001b[0m\n",
            "\u001b[0;32m/usr/lib/python3.10/tkinter/__init__.py\u001b[0m in \u001b[0;36m__init__\u001b[0;34m(self, screenName, baseName, className, useTk, sync, use)\u001b[0m\n\u001b[1;32m   2297\u001b[0m                 \u001b[0mbaseName\u001b[0m \u001b[0;34m=\u001b[0m \u001b[0mbaseName\u001b[0m \u001b[0;34m+\u001b[0m \u001b[0mext\u001b[0m\u001b[0;34m\u001b[0m\u001b[0;34m\u001b[0m\u001b[0m\n\u001b[1;32m   2298\u001b[0m         \u001b[0minteractive\u001b[0m \u001b[0;34m=\u001b[0m \u001b[0;32mFalse\u001b[0m\u001b[0;34m\u001b[0m\u001b[0;34m\u001b[0m\u001b[0m\n\u001b[0;32m-> 2299\u001b[0;31m         \u001b[0mself\u001b[0m\u001b[0;34m.\u001b[0m\u001b[0mtk\u001b[0m \u001b[0;34m=\u001b[0m \u001b[0m_tkinter\u001b[0m\u001b[0;34m.\u001b[0m\u001b[0mcreate\u001b[0m\u001b[0;34m(\u001b[0m\u001b[0mscreenName\u001b[0m\u001b[0;34m,\u001b[0m \u001b[0mbaseName\u001b[0m\u001b[0;34m,\u001b[0m \u001b[0mclassName\u001b[0m\u001b[0;34m,\u001b[0m \u001b[0minteractive\u001b[0m\u001b[0;34m,\u001b[0m \u001b[0mwantobjects\u001b[0m\u001b[0;34m,\u001b[0m \u001b[0museTk\u001b[0m\u001b[0;34m,\u001b[0m \u001b[0msync\u001b[0m\u001b[0;34m,\u001b[0m \u001b[0muse\u001b[0m\u001b[0;34m)\u001b[0m\u001b[0;34m\u001b[0m\u001b[0;34m\u001b[0m\u001b[0m\n\u001b[0m\u001b[1;32m   2300\u001b[0m         \u001b[0;32mif\u001b[0m \u001b[0museTk\u001b[0m\u001b[0;34m:\u001b[0m\u001b[0;34m\u001b[0m\u001b[0;34m\u001b[0m\u001b[0m\n\u001b[1;32m   2301\u001b[0m             \u001b[0mself\u001b[0m\u001b[0;34m.\u001b[0m\u001b[0m_loadtk\u001b[0m\u001b[0;34m(\u001b[0m\u001b[0;34m)\u001b[0m\u001b[0;34m\u001b[0m\u001b[0;34m\u001b[0m\u001b[0m\n",
            "\u001b[0;31mTclError\u001b[0m: no display name and no $DISPLAY environment variable"
          ]
        }
      ]
    }
  ]
}